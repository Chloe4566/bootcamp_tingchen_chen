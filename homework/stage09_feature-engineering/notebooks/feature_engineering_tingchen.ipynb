{
 "cells": [
  {
   "cell_type": "code",
   "execution_count": 1,
   "id": "b05a1bb1-968b-4acf-bac1-0840f02a265b",
   "metadata": {},
   "outputs": [
    {
     "name": "stderr",
     "output_type": "stream",
     "text": [
      "/var/folders/62/jglk8c_x6_n4y9ztx7byvgg80000gn/T/ipykernel_8118/3605985252.py:14: FutureWarning: 'M' is deprecated and will be removed in a future version, please use 'ME' instead.\n",
      "  \"date\": pd.date_range(\"2024-01-01\", periods=100, freq=\"M\"),\n"
     ]
    },
    {
     "data": {
      "text/html": [
       "<div>\n",
       "<style scoped>\n",
       "    .dataframe tbody tr th:only-of-type {\n",
       "        vertical-align: middle;\n",
       "    }\n",
       "\n",
       "    .dataframe tbody tr th {\n",
       "        vertical-align: top;\n",
       "    }\n",
       "\n",
       "    .dataframe thead th {\n",
       "        text-align: right;\n",
       "    }\n",
       "</style>\n",
       "<table border=\"1\" class=\"dataframe\">\n",
       "  <thead>\n",
       "    <tr style=\"text-align: right;\">\n",
       "      <th></th>\n",
       "      <th>income</th>\n",
       "      <th>spend</th>\n",
       "      <th>date</th>\n",
       "    </tr>\n",
       "  </thead>\n",
       "  <tbody>\n",
       "    <tr>\n",
       "      <th>0</th>\n",
       "      <td>3860</td>\n",
       "      <td>7863</td>\n",
       "      <td>2024-01-31</td>\n",
       "    </tr>\n",
       "    <tr>\n",
       "      <th>1</th>\n",
       "      <td>8390</td>\n",
       "      <td>1337</td>\n",
       "      <td>2024-02-29</td>\n",
       "    </tr>\n",
       "    <tr>\n",
       "      <th>2</th>\n",
       "      <td>8226</td>\n",
       "      <td>1878</td>\n",
       "      <td>2024-03-31</td>\n",
       "    </tr>\n",
       "    <tr>\n",
       "      <th>3</th>\n",
       "      <td>8191</td>\n",
       "      <td>2076</td>\n",
       "      <td>2024-04-30</td>\n",
       "    </tr>\n",
       "    <tr>\n",
       "      <th>4</th>\n",
       "      <td>6772</td>\n",
       "      <td>5887</td>\n",
       "      <td>2024-05-31</td>\n",
       "    </tr>\n",
       "  </tbody>\n",
       "</table>\n",
       "</div>"
      ],
      "text/plain": [
       "   income  spend       date\n",
       "0    3860   7863 2024-01-31\n",
       "1    8390   1337 2024-02-29\n",
       "2    8226   1878 2024-03-31\n",
       "3    8191   2076 2024-04-30\n",
       "4    6772   5887 2024-05-31"
      ]
     },
     "execution_count": 1,
     "metadata": {},
     "output_type": "execute_result"
    }
   ],
   "source": [
    "import pandas as pd\n",
    "import numpy as np\n",
    "from pathlib import Path\n",
    "\n",
    "RAW_PATH = Path(\"../data/raw/your_dataset.csv\")  # adjust to your dataset\n",
    "if RAW_PATH.exists():\n",
    "    df = pd.read_csv(RAW_PATH)\n",
    "else:\n",
    "    # Synthetic fallback\n",
    "    np.random.seed(42)\n",
    "    df = pd.DataFrame({\n",
    "        \"income\": np.random.randint(3000, 10000, 100),\n",
    "        \"spend\": np.random.randint(1000, 8000, 100),\n",
    "        \"date\": pd.date_range(\"2024-01-01\", periods=100, freq=\"M\"),\n",
    "    })\n",
    "\n",
    "df.head()\n"
   ]
  },
  {
   "cell_type": "markdown",
   "id": "4fcad478-96a3-46a0-b466-2d717c37847c",
   "metadata": {},
   "source": [
    "**Feature 1 — spend_income_ratio**  \n",
    "*Rationale:* Captures proportionality of spending relative to income.  \n",
    "Higher ratios may indicate financial stress or aggressive consumption. "
   ]
  },
  {
   "cell_type": "code",
   "execution_count": 2,
   "id": "0b41e8bf-47a8-4f86-9cfd-fb9beb4c549f",
   "metadata": {},
   "outputs": [],
   "source": [
    "# Feature 1: Spending-to-Income Ratio\n",
    "df[\"spend_income_ratio\"] = df[\"spend\"] / df[\"income\"]"
   ]
  },
  {
   "cell_type": "markdown",
   "id": "4f9ab43f-1ee6-4db3-b2ac-86f70bec8780",
   "metadata": {},
   "source": [
    "**Feature 2 — rolling_spend_mean**  \n",
    "*Rationale:* Smooths short-term volatility; reflects 3-month spending trend.  \n",
    "Useful for detecting upward or downward momentum in expenditures.  "
   ]
  },
  {
   "cell_type": "code",
   "execution_count": 3,
   "id": "712c582c-6b51-45d2-8adf-e98018aa68f3",
   "metadata": {},
   "outputs": [],
   "source": [
    "# Feature 2: 3-month Rolling Spend Mean\n",
    "df = df.sort_values(\"date\")\n",
    "df[\"rolling_spend_mean\"] = df[\"spend\"].rolling(window=3, min_periods=1).mean()"
   ]
  },
  {
   "cell_type": "markdown",
   "id": "998ef7ac-9f31-4eac-b8cf-cf0b1280ba55",
   "metadata": {},
   "source": [
    "**Feature 3 — log_income**  \n",
    "*Rationale:* Reduces skew and stabilizes variance in income distribution.  \n",
    "Helps linear models capture relationships more effectively.  "
   ]
  },
  {
   "cell_type": "code",
   "execution_count": null,
   "id": "0022c3a2-1def-4dcb-a81c-95a82d0a8ea8",
   "metadata": {},
   "outputs": [],
   "source": [
    "# Feature 3: Income Log Transformation (to reduce skew)\n",
    "df[\"log_income\"] = np.log1p(df[\"income\"])"
   ]
  },
  {
   "cell_type": "markdown",
   "id": "5d48e8ed-a764-46b9-b558-6c1594ad3ba8",
   "metadata": {},
   "source": [
    "## Reflection\n",
    "- Features engineered directly from EDA insights (spend-to-income ratio, rolling mean, log income).  \n",
    "- They add proportionality, temporal smoothing, and variance stabilization.  \n",
    "- These features will feed into later modeling and risk analysis.  "
   ]
  }
 ],
 "metadata": {
  "kernelspec": {
   "display_name": "Python 3 (ipykernel)",
   "language": "python",
   "name": "python3"
  },
  "language_info": {
   "codemirror_mode": {
    "name": "ipython",
    "version": 3
   },
   "file_extension": ".py",
   "mimetype": "text/x-python",
   "name": "python",
   "nbconvert_exporter": "python",
   "pygments_lexer": "ipython3",
   "version": "3.11.13"
  }
 },
 "nbformat": 4,
 "nbformat_minor": 5
}
