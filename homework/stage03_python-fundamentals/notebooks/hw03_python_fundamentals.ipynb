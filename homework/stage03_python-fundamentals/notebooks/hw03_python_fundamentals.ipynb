{
 "cells": [
  {
   "cell_type": "markdown",
   "id": "0fbaf9b4-06a0-4d74-83e6-dc43941ef9b2",
   "metadata": {},
   "source": [
    "# HW03 — Python Fundamentals\n",
    "NumPy ops, pandas loading/inspection, summary stats, groupby, save outputs, reusable functions.\n"
   ]
  },
  {
   "cell_type": "code",
   "execution_count": 2,
   "id": "ce265f4f-8b07-4fe3-8759-c36673bc29f2",
   "metadata": {},
   "outputs": [
    {
     "name": "stdout",
     "output_type": "stream",
     "text": [
      "hw3_utils loaded from: /Users/chen/bootcamp_tingchen_chen/homework/homework3/src/hw3_utils.py\n",
      "CSV exists: True\n"
     ]
    }
   ],
   "source": [
    "from pathlib import Path\n",
    "import sys\n",
    "\n",
    "\n",
    "NB_DIR = Path.cwd().resolve()\n",
    "HW3_ROOT = NB_DIR.parent                    \n",
    "SRC_DIR = HW3_ROOT / \"src\"\n",
    "DATA_DIR = HW3_ROOT / \"data\"\n",
    "PROCESSED_DIR = DATA_DIR / \"processed\"\n",
    "CSV_PATH = DATA_DIR / \"starter_data.csv\"\n",
    "\n",
    "\n",
    "sys.path.insert(0, str(SRC_DIR))\n",
    "\n",
    "from hw3_utils import (\n",
    "    get_summary_stats,          \n",
    "    save_outputs,\n",
    "    find_first_categorical,\n",
    "    basic_plot_by_category_mean,\n",
    ")\n",
    "\n",
    "import numpy as np\n",
    "import pandas as pd\n",
    "from IPython.display import display\n",
    "\n",
    "\n",
    "import hw3_utils\n",
    "print(\"hw3_utils loaded from:\", hw3_utils.__file__)\n",
    "print(\"CSV exists:\", CSV_PATH.exists())\n"
   ]
  },
  {
   "cell_type": "code",
   "execution_count": 3,
   "id": "66dcf9d4-2de8-4bd1-898b-d2cc7d8631f2",
   "metadata": {},
   "outputs": [
    {
     "name": "stdout",
     "output_type": "stream",
     "text": [
      "arr + 10: [11. 12. 13. 14.]\n",
      "arr * 2: [2. 4. 6. 8.]\n",
      "arr ** 2: [ 1.  4.  9. 16.]\n",
      "Vectorized time: 0.0017s | Loop time: 0.1084s | speedup ~63.0x\n"
     ]
    }
   ],
   "source": [
    "import time\n",
    "\n",
    "\n",
    "arr = np.array([1, 2, 3, 4], dtype=float)\n",
    "print(\"arr + 10:\", arr + 10)\n",
    "print(\"arr * 2:\", arr * 2)\n",
    "print(\"arr ** 2:\", arr ** 2)\n",
    "\n",
    "\n",
    "N = 1_000_000\n",
    "a = np.random.rand(N)\n",
    "b = np.random.rand(N)\n",
    "\n",
    "t0 = time.perf_counter()\n",
    "c_vec = a + b\n",
    "vec_time = time.perf_counter() - t0\n",
    "\n",
    "t0 = time.perf_counter()\n",
    "c_loop = np.empty_like(a)\n",
    "for i in range(N):\n",
    "    c_loop[i] = a[i] + b[i]\n",
    "loop_time = time.perf_counter() - t0\n",
    "\n",
    "print(f\"Vectorized time: {vec_time:.4f}s | Loop time: {loop_time:.4f}s | speedup ~{loop_time/vec_time:.1f}x\")\n"
   ]
  },
  {
   "cell_type": "code",
   "execution_count": 4,
   "id": "44d4c6a4-5f31-4ff4-9e36-557be5f80612",
   "metadata": {},
   "outputs": [
    {
     "data": {
      "text/html": [
       "<div>\n",
       "<style scoped>\n",
       "    .dataframe tbody tr th:only-of-type {\n",
       "        vertical-align: middle;\n",
       "    }\n",
       "\n",
       "    .dataframe tbody tr th {\n",
       "        vertical-align: top;\n",
       "    }\n",
       "\n",
       "    .dataframe thead th {\n",
       "        text-align: right;\n",
       "    }\n",
       "</style>\n",
       "<table border=\"1\" class=\"dataframe\">\n",
       "  <thead>\n",
       "    <tr style=\"text-align: right;\">\n",
       "      <th></th>\n",
       "      <th>category</th>\n",
       "      <th>value</th>\n",
       "      <th>date</th>\n",
       "    </tr>\n",
       "  </thead>\n",
       "  <tbody>\n",
       "    <tr>\n",
       "      <th>0</th>\n",
       "      <td>A</td>\n",
       "      <td>10</td>\n",
       "      <td>2025-08-01</td>\n",
       "    </tr>\n",
       "    <tr>\n",
       "      <th>1</th>\n",
       "      <td>B</td>\n",
       "      <td>15</td>\n",
       "      <td>2025-08-02</td>\n",
       "    </tr>\n",
       "    <tr>\n",
       "      <th>2</th>\n",
       "      <td>A</td>\n",
       "      <td>12</td>\n",
       "      <td>2025-08-03</td>\n",
       "    </tr>\n",
       "    <tr>\n",
       "      <th>3</th>\n",
       "      <td>B</td>\n",
       "      <td>18</td>\n",
       "      <td>2025-08-04</td>\n",
       "    </tr>\n",
       "    <tr>\n",
       "      <th>4</th>\n",
       "      <td>C</td>\n",
       "      <td>25</td>\n",
       "      <td>2025-08-05</td>\n",
       "    </tr>\n",
       "  </tbody>\n",
       "</table>\n",
       "</div>"
      ],
      "text/plain": [
       "  category  value        date\n",
       "0        A     10  2025-08-01\n",
       "1        B     15  2025-08-02\n",
       "2        A     12  2025-08-03\n",
       "3        B     18  2025-08-04\n",
       "4        C     25  2025-08-05"
      ]
     },
     "metadata": {},
     "output_type": "display_data"
    },
    {
     "name": "stdout",
     "output_type": "stream",
     "text": [
      "<class 'pandas.core.frame.DataFrame'>\n",
      "RangeIndex: 10 entries, 0 to 9\n",
      "Data columns (total 3 columns):\n",
      " #   Column    Non-Null Count  Dtype \n",
      "---  ------    --------------  ----- \n",
      " 0   category  10 non-null     object\n",
      " 1   value     10 non-null     int64 \n",
      " 2   date      10 non-null     object\n",
      "dtypes: int64(1), object(2)\n",
      "memory usage: 372.0+ bytes\n"
     ]
    }
   ],
   "source": [
    "\n",
    "df = pd.read_csv(CSV_PATH)\n",
    "\n",
    "\n",
    "display(df.head())\n",
    "\n",
    "\n",
    "df.info()\n"
   ]
  },
  {
   "cell_type": "code",
   "execution_count": 5,
   "id": "979be1fa-163a-424b-bf84-d944d1855e9f",
   "metadata": {},
   "outputs": [
    {
     "data": {
      "text/html": [
       "<div>\n",
       "<style scoped>\n",
       "    .dataframe tbody tr th:only-of-type {\n",
       "        vertical-align: middle;\n",
       "    }\n",
       "\n",
       "    .dataframe tbody tr th {\n",
       "        vertical-align: top;\n",
       "    }\n",
       "\n",
       "    .dataframe thead th {\n",
       "        text-align: right;\n",
       "    }\n",
       "</style>\n",
       "<table border=\"1\" class=\"dataframe\">\n",
       "  <thead>\n",
       "    <tr style=\"text-align: right;\">\n",
       "      <th></th>\n",
       "      <th>count</th>\n",
       "      <th>mean</th>\n",
       "      <th>std</th>\n",
       "      <th>min</th>\n",
       "      <th>25%</th>\n",
       "      <th>50%</th>\n",
       "      <th>75%</th>\n",
       "      <th>max</th>\n",
       "    </tr>\n",
       "  </thead>\n",
       "  <tbody>\n",
       "    <tr>\n",
       "      <th>value</th>\n",
       "      <td>10.0</td>\n",
       "      <td>17.6</td>\n",
       "      <td>7.381659</td>\n",
       "      <td>10.0</td>\n",
       "      <td>12.25</td>\n",
       "      <td>14.5</td>\n",
       "      <td>23.25</td>\n",
       "      <td>30.0</td>\n",
       "    </tr>\n",
       "  </tbody>\n",
       "</table>\n",
       "</div>"
      ],
      "text/plain": [
       "       count  mean       std   min    25%   50%    75%   max\n",
       "value   10.0  17.6  7.381659  10.0  12.25  14.5  23.25  30.0"
      ]
     },
     "metadata": {},
     "output_type": "display_data"
    },
    {
     "name": "stdout",
     "output_type": "stream",
     "text": [
      "Detected category column: category\n"
     ]
    },
    {
     "data": {
      "text/html": [
       "<div>\n",
       "<style scoped>\n",
       "    .dataframe tbody tr th:only-of-type {\n",
       "        vertical-align: middle;\n",
       "    }\n",
       "\n",
       "    .dataframe tbody tr th {\n",
       "        vertical-align: top;\n",
       "    }\n",
       "\n",
       "    .dataframe thead th {\n",
       "        text-align: right;\n",
       "    }\n",
       "</style>\n",
       "<table border=\"1\" class=\"dataframe\">\n",
       "  <thead>\n",
       "    <tr style=\"text-align: right;\">\n",
       "      <th></th>\n",
       "      <th>value_count</th>\n",
       "      <th>value_mean</th>\n",
       "      <th>value_std</th>\n",
       "      <th>value_min</th>\n",
       "      <th>value_max</th>\n",
       "    </tr>\n",
       "    <tr>\n",
       "      <th>category</th>\n",
       "      <th></th>\n",
       "      <th></th>\n",
       "      <th></th>\n",
       "      <th></th>\n",
       "      <th></th>\n",
       "    </tr>\n",
       "  </thead>\n",
       "  <tbody>\n",
       "    <tr>\n",
       "      <th>A</th>\n",
       "      <td>4</td>\n",
       "      <td>11.500000</td>\n",
       "      <td>1.290994</td>\n",
       "      <td>10</td>\n",
       "      <td>13</td>\n",
       "    </tr>\n",
       "    <tr>\n",
       "      <th>B</th>\n",
       "      <td>3</td>\n",
       "      <td>15.666667</td>\n",
       "      <td>2.081666</td>\n",
       "      <td>14</td>\n",
       "      <td>18</td>\n",
       "    </tr>\n",
       "    <tr>\n",
       "      <th>C</th>\n",
       "      <td>3</td>\n",
       "      <td>27.666667</td>\n",
       "      <td>2.516611</td>\n",
       "      <td>25</td>\n",
       "      <td>30</td>\n",
       "    </tr>\n",
       "  </tbody>\n",
       "</table>\n",
       "</div>"
      ],
      "text/plain": [
       "          value_count  value_mean  value_std  value_min  value_max\n",
       "category                                                          \n",
       "A                   4   11.500000   1.290994         10         13\n",
       "B                   3   15.666667   2.081666         14         18\n",
       "C                   3   27.666667   2.516611         25         30"
      ]
     },
     "metadata": {},
     "output_type": "display_data"
    }
   ],
   "source": [
    "\n",
    "numeric_summary = get_summary_stats(df)\n",
    "display(numeric_summary)\n",
    "\n",
    "\n",
    "category_col = find_first_categorical(df)\n",
    "print(\"Detected category column:\", category_col)\n",
    "\n",
    "by_cat = None\n",
    "if category_col:\n",
    "  \n",
    "    by_cat = get_summary_stats(df, by=category_col)\n",
    "    display(by_cat.head())\n",
    "else:\n",
    "   print(\"No categorical column found. If you know the column name, you can manually specify it: category_col = 'your_column_name'\")\n"
   ]
  },
  {
   "cell_type": "code",
   "execution_count": 6,
   "id": "b8cd7b74-e321-4da3-9096-7de193ffc2a7",
   "metadata": {},
   "outputs": [
    {
     "name": "stdout",
     "output_type": "stream",
     "text": [
      "Saved outputs to: /Users/chen/bootcamp_tingchen_chen/homework/homework3/data/processed\n"
     ]
    }
   ],
   "source": [
    "\n",
    "save_outputs(numeric_summary, by_cat, PROCESSED_DIR, base_name=\"summary\")\n",
    "print(\"Saved outputs to:\", PROCESSED_DIR)\n"
   ]
  },
  {
   "cell_type": "code",
   "execution_count": null,
   "id": "242e4a9a-257c-4fb3-8b25-7de245e88bbd",
   "metadata": {},
   "outputs": [],
   "source": []
  },
  {
   "cell_type": "code",
   "execution_count": 7,
   "id": "23f652b5-7096-47cb-add1-a75505412a99",
   "metadata": {},
   "outputs": [
    {
     "name": "stdout",
     "output_type": "stream",
     "text": [
      "Numeric columns: ['value']\n",
      "Saved plot to: /Users/chen/bootcamp_tingchen_chen/homework/homework3/data/processed/basic_plot.png\n"
     ]
    }
   ],
   "source": [
    "numeric_cols = df.select_dtypes(include='number').columns.tolist()\n",
    "print(\"Numeric columns:\", numeric_cols)\n",
    "\n",
    "if category_col and numeric_cols:\n",
    "    value_col = numeric_cols[0]      \n",
    "    plot_path = PROCESSED_DIR / \"basic_plot.png\"\n",
    "    basic_plot_by_category_mean(df, category_col, value_col, plot_path)\n",
    "    print(\"Saved plot to:\", plot_path)\n",
    "else:\n",
    "    print(\"Unable to plot: requires at least one categorical column and one numerical column.\")\n"
   ]
  },
  {
   "cell_type": "code",
   "execution_count": 8,
   "id": "e5a87df6-c904-4cc7-b87c-8eaf1a8cf0b3",
   "metadata": {},
   "outputs": [
    {
     "name": "stdout",
     "output_type": "stream",
     "text": [
      "Done! Check: /Users/chen/bootcamp_tingchen_chen/homework/homework3/data/processed\n"
     ]
    }
   ],
   "source": [
    "numeric_summary2 = get_summary_stats(df)\n",
    "by_cat2 = get_summary_stats(df, by=category_col) if category_col else None\n",
    "\n",
    "save_outputs(numeric_summary2, by_cat2, PROCESSED_DIR, base_name=\"summary_from_utils\")\n",
    "print(\"Done! Check:\", PROCESSED_DIR)\n"
   ]
  }
 ],
 "metadata": {
  "kernelspec": {
   "display_name": "Python 3 (ipykernel)",
   "language": "python",
   "name": "python3"
  },
  "language_info": {
   "codemirror_mode": {
    "name": "ipython",
    "version": 3
   },
   "file_extension": ".py",
   "mimetype": "text/x-python",
   "name": "python",
   "nbconvert_exporter": "python",
   "pygments_lexer": "ipython3",
   "version": "3.11.13"
  }
 },
 "nbformat": 4,
 "nbformat_minor": 5
}
