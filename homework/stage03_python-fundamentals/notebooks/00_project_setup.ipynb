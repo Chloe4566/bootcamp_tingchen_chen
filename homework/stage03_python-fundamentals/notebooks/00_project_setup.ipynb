{
 "cells": [
  {
   "cell_type": "markdown",
   "id": "3e6236ab-50fb-45d3-9f59-b531359640cb",
   "metadata": {},
   "source": [
    "# Environment & Config Check"
   ]
  },
  {
   "cell_type": "code",
   "execution_count": 1,
   "id": "8bc3dce2-ba21-4851-9b33-65a4b7cb067c",
   "metadata": {
    "jupyter": {
     "source_hidden": true
    }
   },
   "outputs": [
    {
     "name": "stdout",
     "output_type": "stream",
     "text": [
      "API_KEY present: False\n",
      "NumPy array sum: 6\n"
     ]
    }
   ],
   "source": [
    "from dotenv import load_dotenv\n",
    "import os\n",
    "import numpy as np\n",
    "\n",
    "load_dotenv()\n",
    "print(\"API_KEY present:\", \"API_KEY\" in os.environ)\n",
    "\n",
    "arr = np.array([1,2,3])\n",
    "print(\"NumPy array sum:\", arr.sum())"
   ]
  },
  {
   "cell_type": "code",
   "execution_count": null,
   "id": "5e740f96-6dc0-401a-84de-f136f2a6964c",
   "metadata": {},
   "outputs": [],
   "source": []
  },
  {
   "cell_type": "code",
   "execution_count": null,
   "id": "0782c098-dbfe-4808-8c98-ddd8eb69564e",
   "metadata": {},
   "outputs": [],
   "source": []
  }
 ],
 "metadata": {
  "kernelspec": {
   "display_name": "Python 3 (ipykernel)",
   "language": "python",
   "name": "python3"
  },
  "language_info": {
   "codemirror_mode": {
    "name": "ipython",
    "version": 3
   },
   "file_extension": ".py",
   "mimetype": "text/x-python",
   "name": "python",
   "nbconvert_exporter": "python",
   "pygments_lexer": "ipython3",
   "version": "3.11.13"
  }
 },
 "nbformat": 4,
 "nbformat_minor": 5
}
